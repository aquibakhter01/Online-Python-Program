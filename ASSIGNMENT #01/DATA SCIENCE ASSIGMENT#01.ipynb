{
 "cells": [
  {
   "cell_type": "code",
   "execution_count": 1,
   "metadata": {},
   "outputs": [
    {
     "name": "stdout",
     "output_type": "stream",
     "text": [
      "Twinkle, twinkle, little star,\n",
      "\t HOW I wonder what you are!\n",
      "\t\t Up above the world so high,\n",
      "\t\t Like a diamond in the sky.\n",
      "Twinkle, twinkle, little star,\n",
      "\t\t How I wonder what you are\n"
     ]
    }
   ],
   "source": [
    "print(\"Twinkle, twinkle, little star,\")\n",
    "print(\"\\t HOW I wonder what you are!\")\n",
    "print(\"\\t\\t Up above the world so high,\")\n",
    "print(\"\\t\\t Like a diamond in the sky.\")\n",
    "print(\"Twinkle, twinkle, little star,\")\n",
    "print(\"\\t\\t How I wonder what you are\")"
   ]
  },
  {
   "cell_type": "code",
   "execution_count": 2,
   "metadata": {},
   "outputs": [
    {
     "name": "stdout",
     "output_type": "stream",
     "text": [
      "Python version which I am using is 3.7.4 (default, Aug  9 2019, 18:34:13) [MSC v.1915 64 bit (AMD64)]\n"
     ]
    }
   ],
   "source": [
    "import sys\n",
    "print(\"Python version which I am using is\",sys.version)"
   ]
  },
  {
   "cell_type": "code",
   "execution_count": 3,
   "metadata": {},
   "outputs": [
    {
     "name": "stdout",
     "output_type": "stream",
     "text": [
      "Today's time is  02:00:24\n",
      "Today's date is 2021-12-31\n"
     ]
    }
   ],
   "source": [
    "from datetime import date \n",
    "from datetime import datetime \n",
    "now=datetime.now()\n",
    "a=now.strftime(\"%H:%M:%S\")\n",
    "b=date.today()\n",
    "print(\"Today's time is \",a)\n",
    "print(\"Today's date is\",b)"
   ]
  },
  {
   "cell_type": "code",
   "execution_count": 4,
   "metadata": {},
   "outputs": [
    {
     "name": "stdout",
     "output_type": "stream",
     "text": [
      "enter the radius of the circle :14\n",
      "The area of the circle with radius 14.0is:615.7521601035994\n"
     ]
    }
   ],
   "source": [
    "from math import pi\n",
    "radius=float(input(\"enter the radius of the circle :\"))\n",
    "area=pi*radius**2;\n",
    "print(\"The area of the circle with radius \"+str(radius)+ \"is:\"+str(area))"
   ]
  },
  {
   "cell_type": "code",
   "execution_count": 5,
   "metadata": {},
   "outputs": [
    {
     "name": "stdout",
     "output_type": "stream",
     "text": [
      "Enter your First Name : aquib\n",
      "Enter your Last Name : akhter\n",
      "\n",
      "The First Name is aquib\n",
      "The First Name is akhter\n",
      "\n",
      "The Name in Reverse Order is \n",
      "akhter aquib\n"
     ]
    }
   ],
   "source": [
    "first_name = input(\"Enter your First Name : \")\n",
    "last_name = input(\"Enter your Last Name : \")\n",
    "print (\"\\nThe First Name is \" + first_name)\n",
    "print (\"The First Name is \" + last_name)\n",
    "print (\"\\nThe Name in Reverse Order is \\n\"+last_name + \" \" + first_name)"
   ]
  },
  {
   "cell_type": "code",
   "execution_count": 14,
   "metadata": {},
   "outputs": [
    {
     "name": "stdout",
     "output_type": "stream",
     "text": [
      "Enter first value: 10\n",
      "Enter second value: 10\n",
      "First value is:  10\n",
      "Second value is:  10\n",
      "The sum of 10 and 10 is 20.0\n"
     ]
    }
   ],
   "source": [
    "a=input(\"Enter first value: \")\n",
    "b=input(\"Enter second value: \")\n",
    "sum=float(a)+float(b);\n",
    "print(\"First value is: \",a)\n",
    "print(\"Second value is: \",b)\n",
    "print(\"The sum of \"+ a + \" and \"+ b + \" is \"+ str(sum))"
   ]
  },
  {
   "cell_type": "code",
   "execution_count": 12,
   "metadata": {},
   "outputs": [
    {
     "name": "stdout",
     "output_type": "stream",
     "text": [
      "Enter first number: 10\n",
      "Enter second number: 10\n",
      "The sum of 10 and 10 is 20.0\n"
     ]
    }
   ],
   "source": [
    "num1 = input(\"Enter first number: \")\n",
    "num2 = input(\"Enter second number: \")\n",
    "sum = float(num1) + float(num2)\n",
    "print(\"The sum of \"+ num1 + \" and \"+ num2 + \" is \"+ str(sum))"
   ]
  },
  {
   "cell_type": "code",
   "execution_count": null,
   "metadata": {},
   "outputs": [],
   "source": []
  }
 ],
 "metadata": {
  "kernelspec": {
   "display_name": "Python 3",
   "language": "python",
   "name": "python3"
  },
  "language_info": {
   "codemirror_mode": {
    "name": "ipython",
    "version": 3
   },
   "file_extension": ".py",
   "mimetype": "text/x-python",
   "name": "python",
   "nbconvert_exporter": "python",
   "pygments_lexer": "ipython3",
   "version": "3.7.4"
  }
 },
 "nbformat": 4,
 "nbformat_minor": 4
}
